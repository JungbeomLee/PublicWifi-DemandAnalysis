{
 "cells": [
  {
   "cell_type": "code",
   "execution_count": 3,
   "metadata": {},
   "outputs": [],
   "source": [
    "import folium\n",
    "from folium.plugins import HeatMap\n",
    "import pandas as pd\n",
    "import geopandas as gpd\n",
    "from geopy.distance import geodesic"
   ]
  },
  {
   "cell_type": "code",
   "execution_count": 4,
   "metadata": {},
   "outputs": [],
   "source": [
    "wifi_count_data = pd.read_csv('count_wifi_loc.csv')\n",
    "wifi_location = pd.read_csv('PublicWiFi.csv')\n",
    "seoul_district_boundary = gpd.read_file('./district_seoul/LARD_ADM_SECT_SGG_11_202405.shp')"
   ]
  },
  {
   "cell_type": "code",
   "execution_count": 5,
   "metadata": {},
   "outputs": [],
   "source": [
    "seoul_wifi_location = wifi_location[wifi_location['시도']=='서울특별시']\n",
    "seoul_district_wifi = seoul_wifi_location.groupby('시군구')"
   ]
  },
  {
   "cell_type": "code",
   "execution_count": null,
   "metadata": {},
   "outputs": [],
   "source": [
    "# 서울 중심 지도 생성\n",
    "seoul_map = folium.Map(location=[37.5665, 126.9780], zoom_start=11)"
   ]
  },
  {
   "cell_type": "code",
   "execution_count": 7,
   "metadata": {},
   "outputs": [],
   "source": [
    "# # GeoJSON 데이터를 Folium에 추가\n",
    "# folium.GeoJson(\n",
    "#     seoul_district_boundary,  # GeoDataFrame 사용\n",
    "#     name=\"Seoul Districts\",\n",
    "#     style_function=lambda x: {\n",
    "#         'color': 'black',  # 경계선 색상\n",
    "#         'weight': 2,  # 경계선 두께\n",
    "#         'fillColor': 'gray',  # 채우기 색상\n",
    "#         'fillOpacity': 0.1  # 채우기 투명도\n",
    "#     }\n",
    "# ).add_to(seoul_map)"
   ]
  },
  {
   "cell_type": "code",
   "execution_count": 8,
   "metadata": {},
   "outputs": [
    {
     "data": {
      "text/plain": [
       "<folium.plugins.heat_map.HeatMap at 0x1fb90cd9940>"
      ]
     },
     "execution_count": 8,
     "metadata": {},
     "output_type": "execute_result"
    }
   ],
   "source": [
    "# HeatMap 데이터 준비\n",
    "heat_data = []\n",
    "for index, entry in wifi_count_data.iterrows():\n",
    "    lat, lon = entry['Latitude'], entry['Longitude']\n",
    "    wifi_count = int(sum(entry.iloc[4:7]))  # 500m ~ 2km 열 합계를 Wi-Fi 개수로 사용\n",
    "    heat_data.append([lat, lon, wifi_count])  # HeatMap용 데이터 준비\n",
    "\n",
    "    # if wifi_count >= 750 :\n",
    "    #     folium.Circle(\n",
    "    #         location=[entry['Latitude'], entry['Longitude']],  # Wi-Fi 위치의 위도와 경도\n",
    "    #         radius=2000,  # 원의 크기 (40m 반경)\n",
    "    #         color='blue',  # 테두리 색상을 없앰\n",
    "    #         fill=None,  # 원 내부 채우기\n",
    "    #         fill_color='blue',  # 원 내부 색상\n",
    "    #         fill_opacity=0.1  # 원의 투명도\n",
    "    #     ).add_to(seoul_map)\n",
    "\n",
    "    # Wi-Fi 개수 텍스트 추가\n",
    "    folium.Marker(\n",
    "        location=[lat, lon],\n",
    "        icon=folium.DivIcon(\n",
    "            html=f'''\n",
    "                <div style=\"\n",
    "                    font-size: 12px; \n",
    "                    font-weight: bold; \n",
    "                    color: black; \n",
    "                    padding: 2px; \n",
    "                    border-radius: 3px;\">\n",
    "                    {wifi_count}\n",
    "                </div>\n",
    "            '''\n",
    "        )\n",
    "    ).add_to(seoul_map)\n",
    "\n",
    "# HeatMap 추가\n",
    "HeatMap(heat_data).add_to(seoul_map)"
   ]
  },
  {
   "cell_type": "code",
   "execution_count": 9,
   "metadata": {},
   "outputs": [],
   "source": [
    "# for _, row in seoul_wifi_location.iterrows():\n",
    "#     folium.Circle(\n",
    "#         location=[row['위도'], row['경도']],  # Wi-Fi 위치의 위도와 경도\n",
    "#         radius=40,  # 원의 크기 (40m 반경)\n",
    "#         color=None,  # 테두리 색상을 없앰\n",
    "#         fill=True,  # 원 내부 채우기\n",
    "#         fill_color='blue',  # 원 내부 색상\n",
    "#         fill_opacity=0.2,  # 원의 투명도\n",
    "#         popup=folium.Popup(row['ap명'], parse_html=True)  # Wi-Fi AP 이름 팝업\n",
    "#     ).add_to(seoul_map)"
   ]
  },
  {
   "cell_type": "code",
   "execution_count": 10,
   "metadata": {},
   "outputs": [],
   "source": [
    "# 결과 저장\n",
    "seoul_map.save(\"seoul_wifi_heat.html\")"
   ]
  }
 ],
 "metadata": {
  "colab": {
   "authorship_tag": "ABX9TyNIC73vgIqtZ9TjABNbvi2k",
   "provenance": []
  },
  "kernelspec": {
   "display_name": "PUBLICWIFIDEMANDANALYSIS",
   "language": "python",
   "name": "python3"
  },
  "language_info": {
   "codemirror_mode": {
    "name": "ipython",
    "version": 3
   },
   "file_extension": ".py",
   "mimetype": "text/x-python",
   "name": "python",
   "nbconvert_exporter": "python",
   "pygments_lexer": "ipython3",
   "version": "3.13.0"
  }
 },
 "nbformat": 4,
 "nbformat_minor": 0
}
